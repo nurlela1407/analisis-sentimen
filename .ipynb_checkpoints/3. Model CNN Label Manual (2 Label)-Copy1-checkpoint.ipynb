{
 "cells": [
  {
   "cell_type": "code",
   "execution_count": 1,
   "id": "b87949bd-78ed-4f78-a0a7-a60d5ef17f87",
   "metadata": {},
   "outputs": [],
   "source": [
    "# import library\n",
    "import numpy as np \n",
    "import pandas as pd\n",
    "import re\n",
    "import os\n",
    "\n",
    "import matplotlib.pyplot as plt\n",
    "%matplotlib inline\n",
    "\n",
    "import keras\n",
    "import keras.utils\n",
    "from sklearn import preprocessing\n",
    "from keras.preprocessing.sequence import pad_sequences\n",
    "from keras.preprocessing.text import Tokenizer\n",
    "from keras.preprocessing import sequence\n",
    "from sklearn.preprocessing import LabelEncoder\n",
    "from keras.utils.np_utils import to_categorical\n",
    "from sklearn.model_selection import train_test_split\n",
    "from sklearn.metrics import confusion_matrix, roc_curve, roc_auc_score\n",
    "\n",
    "from keras.models import Sequential\n",
    "from keras.layers import Dense, Dropout, Activation\n",
    "from keras.layers import Embedding\n",
    "from keras.layers import Conv1D, GlobalMaxPooling1D, MaxPooling1D, Flatten\n",
    "\n",
    "from functools import partial\n",
    "from keras import metrics"
   ]
  },
  {
   "cell_type": "code",
   "execution_count": 2,
   "id": "c17aee04-46c5-4577-88c9-bb55c4fb3ba2",
   "metadata": {},
   "outputs": [],
   "source": [
    "MAX_SEQUENCES_LENGTH = 50 # Maximum kata pada kalimat\n",
    "MAX_NB_WORDS = 6000 # Vocabulary size\n",
    "EMBEDDING_DIM = 50 # Dimensions of Glove word vector kadang bisa juga 100"
   ]
  },
  {
   "cell_type": "code",
   "execution_count": 3,
   "id": "ca3795f3-0596-4687-ba71-7f7ce3744bdc",
   "metadata": {},
   "outputs": [
    {
     "data": {
      "text/html": [
       "<div>\n",
       "<style scoped>\n",
       "    .dataframe tbody tr th:only-of-type {\n",
       "        vertical-align: middle;\n",
       "    }\n",
       "\n",
       "    .dataframe tbody tr th {\n",
       "        vertical-align: top;\n",
       "    }\n",
       "\n",
       "    .dataframe thead th {\n",
       "        text-align: right;\n",
       "    }\n",
       "</style>\n",
       "<table border=\"1\" class=\"dataframe\">\n",
       "  <thead>\n",
       "    <tr style=\"text-align: right;\">\n",
       "      <th></th>\n",
       "      <th>text</th>\n",
       "      <th>label</th>\n",
       "    </tr>\n",
       "  </thead>\n",
       "  <tbody>\n",
       "    <tr>\n",
       "      <th>0</th>\n",
       "      <td>konflik rebut tanah</td>\n",
       "      <td>0</td>\n",
       "    </tr>\n",
       "    <tr>\n",
       "      <th>1</th>\n",
       "      <td>palestina taat kaffah islam ganti demokrasi si...</td>\n",
       "      <td>0</td>\n",
       "    </tr>\n",
       "    <tr>\n",
       "      <th>2</th>\n",
       "      <td>palestina rohingya konflik politik sih oknum l...</td>\n",
       "      <td>1</td>\n",
       "    </tr>\n",
       "    <tr>\n",
       "      <th>3</th>\n",
       "      <td>teroris islam gejala imbas konflik israel pale...</td>\n",
       "      <td>1</td>\n",
       "    </tr>\n",
       "    <tr>\n",
       "      <th>4</th>\n",
       "      <td>gregetan turun moderat peduli zionisme gera du...</td>\n",
       "      <td>2</td>\n",
       "    </tr>\n",
       "  </tbody>\n",
       "</table>\n",
       "</div>"
      ],
      "text/plain": [
       "                                                text  label\n",
       "0                                konflik rebut tanah      0\n",
       "1  palestina taat kaffah islam ganti demokrasi si...      0\n",
       "2  palestina rohingya konflik politik sih oknum l...      1\n",
       "3  teroris islam gejala imbas konflik israel pale...      1\n",
       "4  gregetan turun moderat peduli zionisme gera du...      2"
      ]
     },
     "execution_count": 3,
     "metadata": {},
     "output_type": "execute_result"
    }
   ],
   "source": [
    "# open dataset,save on dataframe\n",
    "df = pd.read_csv(\"just_stemming.csv\",encoding=\"ISO-8859-1\")\n",
    "\n",
    "# membuka data slang (data yang akan dibenarkan)\n",
    "with open('slang.txt') as file:\n",
    "    slang_map = dict(map(str.strip, line.partition('\\t')[::2])\n",
    "    for line in file if line.strip())\n",
    "    \n",
    "df.head()"
   ]
  },
  {
   "cell_type": "code",
   "execution_count": 4,
   "id": "9548e8a8",
   "metadata": {},
   "outputs": [],
   "source": [
    "# delete data label netral\n",
    "df = df[df.label != 0]"
   ]
  },
  {
   "cell_type": "code",
   "execution_count": 5,
   "id": "b6ad5f58",
   "metadata": {},
   "outputs": [
    {
     "data": {
      "text/html": [
       "<div>\n",
       "<style scoped>\n",
       "    .dataframe tbody tr th:only-of-type {\n",
       "        vertical-align: middle;\n",
       "    }\n",
       "\n",
       "    .dataframe tbody tr th {\n",
       "        vertical-align: top;\n",
       "    }\n",
       "\n",
       "    .dataframe thead th {\n",
       "        text-align: right;\n",
       "    }\n",
       "</style>\n",
       "<table border=\"1\" class=\"dataframe\">\n",
       "  <thead>\n",
       "    <tr style=\"text-align: right;\">\n",
       "      <th></th>\n",
       "      <th>text</th>\n",
       "      <th>label</th>\n",
       "    </tr>\n",
       "  </thead>\n",
       "  <tbody>\n",
       "    <tr>\n",
       "      <th>2</th>\n",
       "      <td>palestina rohingya konflik politik sih oknum l...</td>\n",
       "      <td>1</td>\n",
       "    </tr>\n",
       "    <tr>\n",
       "      <th>3</th>\n",
       "      <td>teroris islam gejala imbas konflik israel pale...</td>\n",
       "      <td>1</td>\n",
       "    </tr>\n",
       "    <tr>\n",
       "      <th>4</th>\n",
       "      <td>gregetan turun moderat peduli zionisme gera du...</td>\n",
       "      <td>2</td>\n",
       "    </tr>\n",
       "    <tr>\n",
       "      <th>5</th>\n",
       "      <td>tolong negara negara arab tegak bebas hak asas...</td>\n",
       "      <td>1</td>\n",
       "    </tr>\n",
       "    <tr>\n",
       "      <th>7</th>\n",
       "      <td>konflik israel palestina kompleks</td>\n",
       "      <td>1</td>\n",
       "    </tr>\n",
       "    <tr>\n",
       "      <th>...</th>\n",
       "      <td>...</td>\n",
       "      <td>...</td>\n",
       "    </tr>\n",
       "    <tr>\n",
       "      <th>1397</th>\n",
       "      <td>konflik israel palestina urus ikut salah terta...</td>\n",
       "      <td>1</td>\n",
       "    </tr>\n",
       "    <tr>\n",
       "      <th>1398</th>\n",
       "      <td>konflik israel palestina konflik agama palesti...</td>\n",
       "      <td>1</td>\n",
       "    </tr>\n",
       "    <tr>\n",
       "      <th>1399</th>\n",
       "      <td>target gencat senjata permanen</td>\n",
       "      <td>1</td>\n",
       "    </tr>\n",
       "    <tr>\n",
       "      <th>1400</th>\n",
       "      <td>support palestine cuma kadang miris jalan bant...</td>\n",
       "      <td>1</td>\n",
       "    </tr>\n",
       "    <tr>\n",
       "      <th>1401</th>\n",
       "      <td>guna gencat senjata bunuh saudara satu zionis ...</td>\n",
       "      <td>2</td>\n",
       "    </tr>\n",
       "  </tbody>\n",
       "</table>\n",
       "<p>1032 rows × 2 columns</p>\n",
       "</div>"
      ],
      "text/plain": [
       "                                                   text  label\n",
       "2     palestina rohingya konflik politik sih oknum l...      1\n",
       "3     teroris islam gejala imbas konflik israel pale...      1\n",
       "4     gregetan turun moderat peduli zionisme gera du...      2\n",
       "5     tolong negara negara arab tegak bebas hak asas...      1\n",
       "7                     konflik israel palestina kompleks      1\n",
       "...                                                 ...    ...\n",
       "1397  konflik israel palestina urus ikut salah terta...      1\n",
       "1398  konflik israel palestina konflik agama palesti...      1\n",
       "1399                     target gencat senjata permanen      1\n",
       "1400  support palestine cuma kadang miris jalan bant...      1\n",
       "1401  guna gencat senjata bunuh saudara satu zionis ...      2\n",
       "\n",
       "[1032 rows x 2 columns]"
      ]
     },
     "execution_count": 5,
     "metadata": {},
     "output_type": "execute_result"
    }
   ],
   "source": [
    "df"
   ]
  },
  {
   "cell_type": "code",
   "execution_count": 6,
   "id": "c853c75e",
   "metadata": {},
   "outputs": [],
   "source": [
    "df.loc[df['label'] == 2, 'label'] = 0"
   ]
  },
  {
   "cell_type": "code",
   "execution_count": 7,
   "id": "329cbdc7-3c2b-4a14-adbb-5b4cbcf413f5",
   "metadata": {},
   "outputs": [
    {
     "name": "stdout",
     "output_type": "stream",
     "text": [
      "1    686\n",
      "0    346\n",
      "Name: label, dtype: int64\n"
     ]
    },
    {
     "data": {
      "image/png": "[encoded data removed]",
      "text/plain": [
       "<Figure size 432x288 with 1 Axes>"
      ]
     },
     "metadata": {
      "needs_background": "light"
     },
     "output_type": "display_data"
    }
   ],
   "source": [
    "# menghitung Label sentimen (menampilkan tabel pembagian label sentimen)\n",
    "labels = df.label\n",
    "labels_count = labels.value_counts()\n",
    "labels_count.plot(kind=\"bar\", x='Label', y='Jumlah', color='red')\n",
    "print(labels.value_counts())"
   ]
  },
  {
   "cell_type": "code",
   "execution_count": 8,
   "id": "2b642154-ff9d-4cf3-99a8-eea3246a6708",
   "metadata": {},
   "outputs": [],
   "source": [
    "# Prepare to X as Feature\n",
    "tokenizer = Tokenizer()\n",
    "tokenizer.fit_on_texts(df.text)\n",
    "sequences = tokenizer.texts_to_sequences(df.text)\n",
    "# Banyak kata yang telah di tokenizer\n",
    "word_index = tokenizer.word_index"
   ]
  },
  {
   "cell_type": "code",
   "execution_count": 9,
   "id": "bed59d8c-75ce-48fb-9e48-c01ecba5156a",
   "metadata": {},
   "outputs": [
    {
     "name": "stdout",
     "output_type": "stream",
     "text": [
      "Found 2289 unique words.\n"
     ]
    }
   ],
   "source": [
    "print('Found %d unique words.' % len(word_index))"
   ]
  },
  {
   "cell_type": "code",
   "execution_count": 10,
   "id": "aa37a086-664a-4251-aa97-573d2c2f794c",
   "metadata": {},
   "outputs": [],
   "source": [
    "X = pad_sequences(sequences, maxlen=MAX_SEQUENCES_LENGTH, padding='post')"
   ]
  },
  {
   "cell_type": "code",
   "execution_count": 11,
   "id": "85ae952c-b972-476b-95cf-51370ea87a0d",
   "metadata": {},
   "outputs": [],
   "source": [
    "# Prepare to y as label\n",
    "y = df[\"label\"]"
   ]
  },
  {
   "cell_type": "code",
   "execution_count": 12,
   "id": "923a20db-6ac8-4735-acd1-57fd0f733f32",
   "metadata": {},
   "outputs": [],
   "source": [
    "classes = ['0', '1']"
   ]
  },
  {
   "cell_type": "code",
   "execution_count": 13,
   "id": "34ab8b99-9747-43f1-be02-6d1b2d05f339",
   "metadata": {},
   "outputs": [],
   "source": [
    "# Membuka dataset yg telah di panggil di file local\n",
    "# with open('pengujian/final/split_dataset/datset60.pickle', 'rb') as f:\n",
    "#     X_train80, X_test80, y_train80, y_test80 = pickle.load(f)"
   ]
  },
  {
   "cell_type": "code",
   "execution_count": 14,
   "id": "3c588958-6ba1-4ccb-986c-23c49358072c",
   "metadata": {},
   "outputs": [
    {
     "name": "stdout",
     "output_type": "stream",
     "text": [
      "Indexing word vectors.\n",
      "Found 331286 word vectors.\n"
     ]
    }
   ],
   "source": [
    "# open Glove\n",
    "print('Indexing word vectors.')\n",
    "\n",
    "embeddings_index = {}\n",
    "f = open(os.path.join('dataset/glove/vectors.txt'), encoding='utf-8')\n",
    "for line in f:\n",
    "    values = line.split()\n",
    "    word = values[0]\n",
    "    coefs = np.asarray(values[1:], dtype='float32')\n",
    "    embeddings_index[word] = coefs\n",
    "f.close()\n",
    "\n",
    "print('Found %s word vectors.' % len(embeddings_index))"
   ]
  },
  {
   "cell_type": "code",
   "execution_count": 15,
   "id": "433930ee-7c91-46b7-8fb1-ccd23b4bf081",
   "metadata": {},
   "outputs": [],
   "source": [
    "# Use GloVe as Word Embedding\n",
    "hits = 0\n",
    "misses = 0\n",
    "index = []\n",
    "num_words = min(MAX_NB_WORDS, len(word_index))\n",
    "embedding_matrix = np.zeros((len(word_index) + 1, EMBEDDING_DIM))\n",
    "for word, i in word_index.items():\n",
    "    embedding_vector = embeddings_index.get(word)\n",
    "    if embedding_vector is not None:\n",
    "        # words not found in embedding index will be all-zeros.\n",
    "        embedding_matrix[i] = embedding_vector\n",
    "        hits += 1\n",
    "    else:\n",
    "        misses += 1\n",
    "        index.append(word)"
   ]
  },
  {
   "cell_type": "code",
   "execution_count": 16,
   "id": "62df46f6-1835-4504-8591-fa218dc925fb",
   "metadata": {},
   "outputs": [],
   "source": [
    "# test = embeddings_index.get(\"netizen\")\n",
    "# test"
   ]
  },
  {
   "cell_type": "code",
   "execution_count": 17,
   "id": "37b51025-22d4-4daf-be91-8204ad681a62",
   "metadata": {},
   "outputs": [
    {
     "data": {
      "text/plain": [
       "2254"
      ]
     },
     "execution_count": 17,
     "metadata": {},
     "output_type": "execute_result"
    }
   ],
   "source": [
    "# jumlah kata yg berhasil di embedding\n",
    "hits"
   ]
  },
  {
   "cell_type": "code",
   "execution_count": 18,
   "id": "79ece793-056c-415f-bcf9-6c8d94a2978b",
   "metadata": {},
   "outputs": [
    {
     "data": {
      "text/plain": [
       "35"
      ]
     },
     "execution_count": 18,
     "metadata": {},
     "output_type": "execute_result"
    }
   ],
   "source": [
    "# jumlah kata yg miss tidak ada dalam vector glove\n",
    "misses"
   ]
  },
  {
   "cell_type": "code",
   "execution_count": 19,
   "id": "0a4fd8a7-1bf2-47ed-9c7d-51420134a2c7",
   "metadata": {},
   "outputs": [],
   "source": [
    "# kata-kataa yang tidak berhasil di bobot\n",
    "#index"
   ]
  },
  {
   "cell_type": "code",
   "execution_count": 20,
   "id": "28123f61-978a-414d-aba9-65f158e5ac0b",
   "metadata": {},
   "outputs": [],
   "source": [
    "# Embedding layer with glove\n",
    "embedding_layer = Embedding(len(word_index) + 1, EMBEDDING_DIM, input_length=MAX_SEQUENCES_LENGTH,weights=[embedding_matrix],trainable=True)"
   ]
  },
  {
   "cell_type": "code",
   "execution_count": 21,
   "id": "ef2d1437-b661-4e8d-a45a-609a6fd8070d",
   "metadata": {},
   "outputs": [],
   "source": [
    "# model 1\n",
    "# Create Model CNN\n",
    "def create_model():\n",
    "    model = Sequential()\n",
    "    model.add(embedding_layer)\n",
    "    model.add(Conv1D(filters=64, kernel_size=5, activation='relu', padding='same'))\n",
    "    model.add(MaxPooling1D(pool_size=2))\n",
    "    model.add(Dropout(0.5))\n",
    "    model.add(Flatten())\n",
    "    model.add(Dropout(0.5))\n",
    "    model.add(Dense(1, activation='sigmoid'))\n",
    "    model.compile(loss='binary_crossentropy', optimizer='adam', metrics=['accuracy'])\n",
    "    model.summary()\n",
    "    return model"
   ]
  },
  {
   "cell_type": "code",
   "execution_count": 22,
   "id": "75de104f-ec3f-489f-b0d9-fd7322ada82b",
   "metadata": {},
   "outputs": [
    {
     "name": "stdout",
     "output_type": "stream",
     "text": [
      "Model: \"sequential\"\n",
      "_________________________________________________________________\n",
      " Layer (type)                Output Shape              Param #   \n",
      "=================================================================\n",
      " embedding (Embedding)       (None, 50, 50)            114500    \n",
      "                                                                 \n",
      " conv1d (Conv1D)             (None, 50, 64)            16064     \n",
      "                                                                 \n",
      " max_pooling1d (MaxPooling1D  (None, 25, 64)           0         \n",
      " )                                                               \n",
      "                                                                 \n",
      " dropout (Dropout)           (None, 25, 64)            0         \n",
      "                                                                 \n",
      " flatten (Flatten)           (None, 1600)              0         \n",
      "                                                                 \n",
      " dropout_1 (Dropout)         (None, 1600)              0         \n",
      "                                                                 \n",
      " dense (Dense)               (None, 1)                 1601      \n",
      "                                                                 \n",
      "=================================================================\n",
      "Total params: 132,165\n",
      "Trainable params: 132,165\n",
      "Non-trainable params: 0\n",
      "_________________________________________________________________\n"
     ]
    }
   ],
   "source": [
    "# Train Model\n",
    "cnn_model = create_model()"
   ]
  },
  {
   "cell_type": "code",
   "execution_count": 23,
   "id": "5ea47a00-cdd2-40f4-a47f-062972627cb1",
   "metadata": {},
   "outputs": [],
   "source": [
    "# Split Dataset\n",
    "X_train, X_test, y_train, y_test = train_test_split(X, y, test_size=0.1, random_state=20, stratify=y)"
   ]
  },
  {
   "cell_type": "code",
   "execution_count": 24,
   "id": "44da1801",
   "metadata": {},
   "outputs": [
    {
     "name": "stdout",
     "output_type": "stream",
     "text": [
      "Epoch 1/10\n",
      "29/29 [==============================] - 2s 39ms/step - loss: 0.6844 - accuracy: 0.6304 - val_loss: 0.6110 - val_accuracy: 0.6635\n",
      "Epoch 2/10\n",
      "29/29 [==============================] - 0s 14ms/step - loss: 0.6308 - accuracy: 0.6509 - val_loss: 0.5998 - val_accuracy: 0.6731\n",
      "Epoch 3/10\n",
      "29/29 [==============================] - 0s 14ms/step - loss: 0.5856 - accuracy: 0.6983 - val_loss: 0.5931 - val_accuracy: 0.6827\n",
      "Epoch 4/10\n",
      "29/29 [==============================] - 0s 15ms/step - loss: 0.5769 - accuracy: 0.6929 - val_loss: 0.5824 - val_accuracy: 0.7019\n",
      "Epoch 5/10\n",
      "29/29 [==============================] - 0s 15ms/step - loss: 0.5473 - accuracy: 0.7241 - val_loss: 0.5784 - val_accuracy: 0.6923\n",
      "Epoch 6/10\n",
      "29/29 [==============================] - 0s 15ms/step - loss: 0.5150 - accuracy: 0.7532 - val_loss: 0.5670 - val_accuracy: 0.7404\n",
      "Epoch 7/10\n",
      "29/29 [==============================] - 0s 14ms/step - loss: 0.4956 - accuracy: 0.7694 - val_loss: 0.5549 - val_accuracy: 0.7788\n",
      "Epoch 8/10\n",
      "29/29 [==============================] - 0s 13ms/step - loss: 0.4652 - accuracy: 0.7920 - val_loss: 0.5400 - val_accuracy: 0.7692\n",
      "Epoch 9/10\n",
      "29/29 [==============================] - 0s 14ms/step - loss: 0.4388 - accuracy: 0.8233 - val_loss: 0.5306 - val_accuracy: 0.7692\n",
      "Epoch 10/10\n",
      "29/29 [==============================] - 0s 15ms/step - loss: 0.4161 - accuracy: 0.8168 - val_loss: 0.5270 - val_accuracy: 0.7692\n"
     ]
    }
   ],
   "source": [
    "cnn_history = cnn_model.fit(X_train, y_train, epochs=10, validation_data=(X_test, y_test))"
   ]
  },
  {
   "cell_type": "code",
   "execution_count": 25,
   "id": "56faddfc-5653-417a-bbfd-1957d7c428d4",
   "metadata": {},
   "outputs": [
    {
     "name": "stdout",
     "output_type": "stream",
     "text": [
      "CNN Accuracy: 0.7692307692307693\n"
     ]
    },
    {
     "data": {
      "image/png": "[encoded data removed]",
      "text/plain": [
       "<Figure size 1440x1152 with 2 Axes>"
      ]
     },
     "metadata": {
      "needs_background": "light"
     },
     "output_type": "display_data"
    }
   ],
   "source": [
    "from sklearn.metrics import accuracy_score, confusion_matrix\n",
    "import seaborn as sns\n",
    "ypred = cnn_model.predict(X_test)\n",
    "cnn_accuracy = accuracy_score(y_test,ypred.round())\n",
    "print(\"CNN Accuracy:\",cnn_accuracy)\n",
    "cnn_cn = confusion_matrix(y_test,ypred.round())\n",
    "plt.subplots(figsize=(20,16))\n",
    "sns.heatmap(cnn_cn,annot=True,fmt=\"1d\",cmap=\"Blues\",cbar=True,xticklabels=classes,yticklabels=classes)\n",
    "plt.xlabel(\"Predicted\",fontsize=15)\n",
    "plt.ylabel(\"Actual\",fontsize=15)\n",
    "# plt.savefig('model60_e40.png')\n",
    "plt.show()"
   ]
  },
  {
   "cell_type": "code",
   "execution_count": 26,
   "id": "8d3d9be0-45d8-498f-97a0-14e6c312d3fd",
   "metadata": {},
   "outputs": [
    {
     "data": {
      "text/plain": [
       "array([[19, 16],\n",
       "       [ 8, 61]], dtype=int64)"
      ]
     },
     "execution_count": 26,
     "metadata": {},
     "output_type": "execute_result"
    }
   ],
   "source": [
    "cnn_cn"
   ]
  },
  {
   "cell_type": "code",
   "execution_count": 27,
   "id": "f5455609-fd0c-4cd5-b7bc-b82301454759",
   "metadata": {},
   "outputs": [
    {
     "name": "stdout",
     "output_type": "stream",
     "text": [
      "              precision    recall  f1-score   support\n",
      "\n",
      "           0       0.70      0.54      0.61        35\n",
      "           1       0.79      0.88      0.84        69\n",
      "\n",
      "    accuracy                           0.77       104\n",
      "   macro avg       0.75      0.71      0.72       104\n",
      "weighted avg       0.76      0.77      0.76       104\n",
      "\n"
     ]
    }
   ],
   "source": [
    "from sklearn.metrics import classification_report\n",
    "print(classification_report(y_test, ypred.round(),target_names= classes))"
   ]
  },
  {
   "cell_type": "code",
   "execution_count": 28,
   "id": "8466aa04-54ed-4fbf-8ea9-4cc623f57628",
   "metadata": {},
   "outputs": [
    {
     "data": {
      "image/png": "[encoded data removed]",
      "text/plain": [
       "<Figure size 1080x360 with 2 Axes>"
      ]
     },
     "metadata": {
      "needs_background": "light"
     },
     "output_type": "display_data"
    }
   ],
   "source": [
    "fig3, axe1 = plt.subplots(nrows=1, ncols=2, figsize=(15,5))\n",
    "axe1[0].plot(cnn_history.history[\"accuracy\"],label=\"accuracy\")\n",
    "axe1[0].plot(cnn_history.history[\"val_accuracy\"],label=\"accuracy\")\n",
    "axe1[0].legend(['train', 'val'], loc='upper left')\n",
    "axe1[1].plot(cnn_history.history[\"loss\"],label=\"loss\")\n",
    "axe1[1].plot(cnn_history.history[\"val_loss\"],label=\"loss\")\n",
    "axe1[1].legend(['train', 'val'], loc='upper left')\n",
    "axe1[0].title.set_text(\"CNN Accuracy\")\n",
    "axe1[1].title.set_text(\"CNN Loss\")\n",
    "axe1[0].set_xlabel(\"Epoch\")\n",
    "axe1[1].set_xlabel(\"Epoch\")\n",
    "axe1[0].set_ylabel(\"Rate\")\n",
    "plt.show()"
   ]
  },
  {
   "cell_type": "code",
   "execution_count": null,
   "id": "34c728a9-47e4-42f6-a47f-a690649d717e",
   "metadata": {},
   "outputs": [],
   "source": [
    "# word cloud"
   ]
  },
  {
   "cell_type": "code",
   "execution_count": null,
   "id": "1c555782",
   "metadata": {},
   "outputs": [],
   "source": []
  }
 ],
 "metadata": {
  "kernelspec": {
   "display_name": "Python 3 (ipykernel)",
   "language": "python",
   "name": "python3"
  },
  "language_info": {
   "codemirror_mode": {
    "name": "ipython",
    "version": 3
   },
   "file_extension": ".py",
   "mimetype": "text/x-python",
   "name": "python",
   "nbconvert_exporter": "python",
   "pygments_lexer": "ipython3",
   "version": "3.9.6"
  }
 },
 "nbformat": 4,
 "nbformat_minor": 5
}
