{
 "cells": [
  {
   "cell_type": "code",
   "execution_count": 1,
   "id": "b87949bd-78ed-4f78-a0a7-a60d5ef17f87",
   "metadata": {},
   "outputs": [],
   "source": [
    "# import library\n",
    "import numpy as np \n",
    "import pandas as pd\n",
    "import re\n",
    "import os\n",
    "\n",
    "import matplotlib.pyplot as plt\n",
    "%matplotlib inline\n",
    "\n",
    "import keras\n",
    "import keras.utils\n",
    "from sklearn import preprocessing\n",
    "from keras.preprocessing.sequence import pad_sequences\n",
    "from keras.preprocessing.text import Tokenizer\n",
    "from keras.preprocessing import sequence\n",
    "from sklearn.preprocessing import LabelEncoder\n",
    "from keras.utils.np_utils import to_categorical\n",
    "from sklearn.model_selection import train_test_split\n",
    "\n",
    "from keras.models import Sequential\n",
    "from keras.layers import Dense, Dropout, Activation\n",
    "from keras.layers import Embedding\n",
    "from keras.layers import Conv1D, GlobalMaxPooling1D, MaxPooling1D, Flatten\n",
    "\n",
    "from functools import partial\n",
    "from keras import metrics"
   ]
  },
  {
   "cell_type": "code",
   "execution_count": 2,
   "id": "c17aee04-46c5-4577-88c9-bb55c4fb3ba2",
   "metadata": {},
   "outputs": [],
   "source": [
    "MAX_SEQUENCES_LENGTH = 50 # Maximum kata pada kalimat\n",
    "MAX_NB_WORDS = 6000 # Vocabulary size\n",
    "EMBEDDING_DIM = 50 # Dimensions of Glove word vector kadang bisa juga 100"
   ]
  },
  {
   "cell_type": "code",
   "execution_count": 3,
   "id": "ca3795f3-0596-4687-ba71-7f7ce3744bdc",
   "metadata": {},
   "outputs": [
    {
     "data": {
      "text/html": [
       "<div>\n",
       "<style scoped>\n",
       "    .dataframe tbody tr th:only-of-type {\n",
       "        vertical-align: middle;\n",
       "    }\n",
       "\n",
       "    .dataframe tbody tr th {\n",
       "        vertical-align: top;\n",
       "    }\n",
       "\n",
       "    .dataframe thead th {\n",
       "        text-align: right;\n",
       "    }\n",
       "</style>\n",
       "<table border=\"1\" class=\"dataframe\">\n",
       "  <thead>\n",
       "    <tr style=\"text-align: right;\">\n",
       "      <th></th>\n",
       "      <th>created_at</th>\n",
       "      <th>screen_name</th>\n",
       "      <th>text</th>\n",
       "      <th>label</th>\n",
       "    </tr>\n",
       "  </thead>\n",
       "  <tbody>\n",
       "    <tr>\n",
       "      <th>0</th>\n",
       "      <td>5/1/2021 16:48</td>\n",
       "      <td>theoholan</td>\n",
       "      <td>itu konflik rebutan tanah</td>\n",
       "      <td>0</td>\n",
       "    </tr>\n",
       "    <tr>\n",
       "      <th>1</th>\n",
       "      <td>5/3/2021 14:12</td>\n",
       "      <td>KoloElang</td>\n",
       "      <td>Bisa tidak? Palestina taat secara kaffah dala...</td>\n",
       "      <td>1</td>\n",
       "    </tr>\n",
       "    <tr>\n",
       "      <th>2</th>\n",
       "      <td>5/5/2021 10:27</td>\n",
       "      <td>ambiszen</td>\n",
       "      <td>kalau palestina rohingya lebih ke konflik poli...</td>\n",
       "      <td>1</td>\n",
       "    </tr>\n",
       "    <tr>\n",
       "      <th>3</th>\n",
       "      <td>5/5/2021 10:54</td>\n",
       "      <td>NephiLaxmus</td>\n",
       "      <td>Teroris 'islam' Itu gejala baru terutama seba...</td>\n",
       "      <td>1</td>\n",
       "    </tr>\n",
       "    <tr>\n",
       "      <th>4</th>\n",
       "      <td>5/5/2021 19:57</td>\n",
       "      <td>Atheo8ID</td>\n",
       "      <td>@mataglo @Sentjoko paling sedikit gregetan gu...</td>\n",
       "      <td>2</td>\n",
       "    </tr>\n",
       "  </tbody>\n",
       "</table>\n",
       "</div>"
      ],
      "text/plain": [
       "       created_at  screen_name  \\\n",
       "0  5/1/2021 16:48    theoholan   \n",
       "1  5/3/2021 14:12    KoloElang   \n",
       "2  5/5/2021 10:27     ambiszen   \n",
       "3  5/5/2021 10:54  NephiLaxmus   \n",
       "4  5/5/2021 19:57     Atheo8ID   \n",
       "\n",
       "                                                text  label  \n",
       "0                          itu konflik rebutan tanah      0  \n",
       "1   Bisa tidak? Palestina taat secara kaffah dala...      1  \n",
       "2  kalau palestina rohingya lebih ke konflik poli...      1  \n",
       "3   Teroris 'islam' Itu gejala baru terutama seba...      1  \n",
       "4   @mataglo @Sentjoko paling sedikit gregetan gu...      2  "
      ]
     },
     "execution_count": 3,
     "metadata": {},
     "output_type": "execute_result"
    }
   ],
   "source": [
    "# open dataset,save on dataframe\n",
    "df = pd.read_csv(\"dataset/dataset_otomatis.csv\",encoding=\"ISO-8859-1\")\n",
    "\n",
    "# membuka data slang (data yang akan dibenarkan)\n",
    "with open('slang.txt') as file:\n",
    "    slang_map = dict(map(str.strip, line.partition('\\t')[::2])\n",
    "    for line in file if line.strip())\n",
    "    \n",
    "df.head()"
   ]
  },
  {
   "cell_type": "code",
   "execution_count": 4,
   "id": "4bf6aa05-d63c-4e1b-bdd7-02f72ec2b67f",
   "metadata": {},
   "outputs": [],
   "source": [
    "# drop column created_at and screen_name\n",
    "df = df.drop(['created_at', 'screen_name'], axis=1)"
   ]
  },
  {
   "cell_type": "code",
   "execution_count": 5,
   "id": "15648f74-55d2-485a-86e1-71f1c6b17e43",
   "metadata": {},
   "outputs": [],
   "source": [
    "# Pre-Processing dataset\n",
    "# fungsi case folding dan menghapus RT dan CC\n",
    "def casefoldingRemoveRt(text):\n",
    "     # menghapus RT (reetwet)\n",
    "    text = re.sub(r'^[RT]+', '', text) \n",
    "    # case folding (menjadi lower case)\n",
    "    text = text.lower()\n",
    "    # menghapus CC (carbon copy)\n",
    "    text = re.sub(r'^[cc]+', '', text)\n",
    "    return text\n",
    "\n",
    "# fungsi untuk menghapus noise\n",
    "def removeNoise(text): \n",
    "    # menghapus unicode\n",
    "    text = re.sub(r'(\\\\u[0-9A-Fa-f]+)','', text)\n",
    "    # menghapus emoticon\n",
    "    text = re.sub(r'[^\\x00-\\x7f]','',text)\n",
    "    # menghapus url\n",
    "    text = re.sub('((www\\.[^\\s]+)|(https?://[^\\s]+))','',text) \n",
    "    # menghapus # (biasanya utk menandai topik tertentu)\n",
    "    text = re.sub(r'#([^\\s]+)', '', text) \n",
    "    # menghapus \"@users\"\n",
    "    text = re.sub('@[^\\s]+','',text)\n",
    "    return text\n",
    "\n",
    "# mengganti kata2 slang menjadi lebih baku\n",
    "slang_words = sorted(slang_map, key=len, reverse=True) # longest first for regex\n",
    "regex = re.compile(r\"\\b({})\\b\".format(\"|\".join(map(re.escape, slang_words))))\n",
    "replaceSlang = partial(regex.sub, lambda m: slang_map[m.group(1)])\n",
    "\n",
    "def removePunctuation(text): \n",
    "    # menghapus integers/numbers\n",
    "    text = ''.join([i for i in text if not i.isdigit()]) \n",
    "    # khusus untuk tanda baca ' (dirapatkan dengan text)\n",
    "    text = re.sub(\"'\",'',text)\n",
    "    # menghapus punctuation (tanda baca)\n",
    "    text = re.sub(r\"[^A-Za-z]+\",\" \",text)\n",
    "    # menghapus 1 karakter\n",
    "    text = re.sub('(\\\\b[A-Za-z] \\\\b|\\\\b [A-Za-z]\\\\b)', '', text)\n",
    "    # menghapus whitespace\n",
    "    text = ' '.join(text.split())\n",
    "    return text"
   ]
  },
  {
   "cell_type": "code",
   "execution_count": 6,
   "id": "bfb218d4-aeba-41e1-b395-e7e55957a3c5",
   "metadata": {},
   "outputs": [],
   "source": [
    "df['text'] = df['text'].apply(lambda x: casefoldingRemoveRt(x))\n",
    "df['text'] = df['text'].apply(lambda x: removeNoise(x))\n",
    "df['text'] = df['text'].apply(lambda x: replaceSlang(x))\n",
    "df['text'] = df['text'].apply(lambda x: removePunctuation(x))"
   ]
  },
  {
   "cell_type": "code",
   "execution_count": 7,
   "id": "14ea7b21-5a7a-48d8-b7fb-138273cb28ab",
   "metadata": {},
   "outputs": [
    {
     "data": {
      "text/html": [
       "<div>\n",
       "<style scoped>\n",
       "    .dataframe tbody tr th:only-of-type {\n",
       "        vertical-align: middle;\n",
       "    }\n",
       "\n",
       "    .dataframe tbody tr th {\n",
       "        vertical-align: top;\n",
       "    }\n",
       "\n",
       "    .dataframe thead th {\n",
       "        text-align: right;\n",
       "    }\n",
       "</style>\n",
       "<table border=\"1\" class=\"dataframe\">\n",
       "  <thead>\n",
       "    <tr style=\"text-align: right;\">\n",
       "      <th></th>\n",
       "      <th>text</th>\n",
       "      <th>label</th>\n",
       "    </tr>\n",
       "  </thead>\n",
       "  <tbody>\n",
       "    <tr>\n",
       "      <th>0</th>\n",
       "      <td>itu konflik rebutan tanah</td>\n",
       "      <td>0</td>\n",
       "    </tr>\n",
       "    <tr>\n",
       "      <th>1</th>\n",
       "      <td>bisa tidak palestina taat secara kaffah dalam ...</td>\n",
       "      <td>1</td>\n",
       "    </tr>\n",
       "    <tr>\n",
       "      <th>2</th>\n",
       "      <td>kalau palestina rohingya lebih ke konflik poli...</td>\n",
       "      <td>1</td>\n",
       "    </tr>\n",
       "    <tr>\n",
       "      <th>3</th>\n",
       "      <td>teroris islam itu gejala baru terutama sebagai...</td>\n",
       "      <td>1</td>\n",
       "    </tr>\n",
       "    <tr>\n",
       "      <th>4</th>\n",
       "      <td>paling sedikit gregetan saya turun karena kamu...</td>\n",
       "      <td>2</td>\n",
       "    </tr>\n",
       "  </tbody>\n",
       "</table>\n",
       "</div>"
      ],
      "text/plain": [
       "                                                text  label\n",
       "0                          itu konflik rebutan tanah      0\n",
       "1  bisa tidak palestina taat secara kaffah dalam ...      1\n",
       "2  kalau palestina rohingya lebih ke konflik poli...      1\n",
       "3  teroris islam itu gejala baru terutama sebagai...      1\n",
       "4  paling sedikit gregetan saya turun karena kamu...      2"
      ]
     },
     "execution_count": 7,
     "metadata": {},
     "output_type": "execute_result"
    }
   ],
   "source": [
    "df.head()"
   ]
  },
  {
   "cell_type": "code",
   "execution_count": 8,
   "id": "a2c5856d-2d23-44a5-9116-b663c50fc045",
   "metadata": {},
   "outputs": [],
   "source": [
    "#Tokenizing\n",
    "from nltk.tokenize import word_tokenize "
   ]
  },
  {
   "cell_type": "code",
   "execution_count": 9,
   "id": "046dc76d-ba5a-4481-99b6-93ba8bfdc41f",
   "metadata": {},
   "outputs": [],
   "source": [
    "# Lakukan tokenizer terlebih dahulu\n",
    "# stop = pd.read_csv('stopword.txt', sep=\" \", header=None)\n",
    "#def word_tokenize_wrapper(text):\n",
    "   # return word_tokenize(text)\n",
    "\n",
    "#df['text'] = df['text'].apply(word_tokenize_wrapper)\n",
    "#df['text']"
   ]
  },
  {
   "cell_type": "code",
   "execution_count": 10,
   "id": "455b5c40-60f2-4623-961d-4cd3b8563b91",
   "metadata": {},
   "outputs": [],
   "source": [
    "# Stop Word\n",
    "from Sastrawi.StopWordRemover.StopWordRemoverFactory import StopWordRemoverFactory\n",
    "factory = StopWordRemoverFactory()\n",
    "stopword = factory.create_stop_word_remover()"
   ]
  },
  {
   "cell_type": "code",
   "execution_count": 11,
   "id": "7f6fa7f4-4abd-44fc-ab68-d122a0cdec39",
   "metadata": {},
   "outputs": [
    {
     "data": {
      "text/plain": [
       "0                                   konflik rebutan tanah\n",
       "1       palestina taat kaffah islam mengganti demokras...\n",
       "2       palestina rohingya konflik politik sih oknum t...\n",
       "3       teroris islam gejala imbas konflik israel pale...\n",
       "4       gregetan turun moderat peduli zionisme gerakan...\n",
       "                              ...                        \n",
       "1417    konflik israel palestina urusan ikutan salah t...\n",
       "1418    konflik israel palestina konflik agama palesti...\n",
       "1419                  targetkan gencatan senjata permanen\n",
       "1420    support palestine Cuma kadang miris dijalan ba...\n",
       "1421    gunanya gencatan senjata bunuh saudara persatu...\n",
       "Name: text, Length: 1422, dtype: object"
      ]
     },
     "execution_count": 11,
     "metadata": {},
     "output_type": "execute_result"
    }
   ],
   "source": [
    "def stopWord(text):\n",
    "    stop = stopword.remove(text)\n",
    "    return stop\n",
    "\n",
    "df['text'] = df['text'].apply(lambda x: stopWord(x))\n",
    "df['text']"
   ]
  },
  {
   "cell_type": "code",
   "execution_count": 12,
   "id": "b8bb319f-9f1c-4ae0-bf01-828b11e8247f",
   "metadata": {},
   "outputs": [],
   "source": [
    "# Stemming\n",
    "from Sastrawi.Stemmer.StemmerFactory import StemmerFactory\n",
    "factory = StemmerFactory()\n",
    "stemmer = factory.create_stemmer()"
   ]
  },
  {
   "cell_type": "code",
   "execution_count": 13,
   "id": "2fb02651-9769-42e9-969d-fbf37fcb23f1",
   "metadata": {},
   "outputs": [
    {
     "data": {
      "text/plain": [
       "0                                     konflik rebut tanah\n",
       "1       palestina taat kaffah islam ganti demokrasi si...\n",
       "2       palestina rohingya konflik politik sih oknum l...\n",
       "3       teroris islam gejala imbas konflik israel pale...\n",
       "4       gregetan turun moderat peduli zionisme gera du...\n",
       "                              ...                        \n",
       "1417    konflik israel palestina urus ikut salah terta...\n",
       "1418    konflik israel palestina konflik agama palesti...\n",
       "1419                       target gencat senjata permanen\n",
       "1420    support palestine cuma kadang miris jalan bant...\n",
       "1421    guna gencat senjata bunuh saudara satu zionis ...\n",
       "Name: text, Length: 1422, dtype: object"
      ]
     },
     "execution_count": 13,
     "metadata": {},
     "output_type": "execute_result"
    }
   ],
   "source": [
    "def stemming(text):\n",
    "    stream = stemmer.stem(text)\n",
    "    return stream\n",
    "\n",
    "df['text'] = df['text'].apply(lambda x: stemming(x))\n",
    "df['text']"
   ]
  },
  {
   "cell_type": "code",
   "execution_count": 14,
   "id": "8ef9e7df-ce2e-4738-b3cd-6bcf9feee032",
   "metadata": {},
   "outputs": [],
   "source": [
    "# delete missing value \n",
    "nan_value = float('NaN')\n",
    "df.replace('', nan_value, inplace=True)\n",
    "df.dropna(subset=['text'], inplace=True)"
   ]
  },
  {
   "cell_type": "code",
   "execution_count": 15,
   "id": "7e83ecbc-29fd-4bed-8b52-b72919d7d301",
   "metadata": {},
   "outputs": [],
   "source": [
    "# delete data duplicate\n",
    "df.drop_duplicates(subset='text', keep = 'first', inplace = True)"
   ]
  },
  {
   "cell_type": "code",
   "execution_count": 16,
   "id": "329cbdc7-3c2b-4a14-adbb-5b4cbcf413f5",
   "metadata": {},
   "outputs": [
    {
     "name": "stdout",
     "output_type": "stream",
     "text": [
      "1    666\n",
      "0    384\n",
      "2    352\n",
      "Name: label, dtype: int64\n"
     ]
    },
    {
     "data": {
      "image/png": "[encoded data removed]",
      "text/plain": [
       "<Figure size 432x288 with 1 Axes>"
      ]
     },
     "metadata": {
      "needs_background": "light"
     },
     "output_type": "display_data"
    }
   ],
   "source": [
    "# menghitung Label sentimen (menampilkan tabel pembagian label sentimen)\n",
    "labels = df.label\n",
    "labels_count = labels.value_counts()\n",
    "labels_count.plot(kind=\"bar\", x='Label', y='Jumlah', color='red')\n",
    "print(labels.value_counts())"
   ]
  },
  {
   "cell_type": "code",
   "execution_count": 17,
   "id": "748348b2-07ae-4738-bfa6-5ac8dc4484d4",
   "metadata": {},
   "outputs": [],
   "source": [
    "# convert to CSV\n",
    "df.to_csv('just_stemming.csv', encoding='utf-8', index=False)"
   ]
  },
  {
   "cell_type": "code",
   "execution_count": 18,
   "id": "2b642154-ff9d-4cf3-99a8-eea3246a6708",
   "metadata": {},
   "outputs": [],
   "source": [
    "# Prepare to X as Feature\n",
    "tokenizer = Tokenizer()\n",
    "tokenizer.fit_on_texts(df.text)\n",
    "sequences = tokenizer.texts_to_sequences(df.text)\n",
    "# Banyak kata yang telah di tokenizer\n",
    "word_index = tokenizer.word_index"
   ]
  },
  {
   "cell_type": "code",
   "execution_count": 19,
   "id": "bed59d8c-75ce-48fb-9e48-c01ecba5156a",
   "metadata": {},
   "outputs": [
    {
     "name": "stdout",
     "output_type": "stream",
     "text": [
      "Found 2606 unique words.\n"
     ]
    }
   ],
   "source": [
    "print('Found %d unique words.' % len(word_index))"
   ]
  },
  {
   "cell_type": "code",
   "execution_count": 20,
   "id": "aa37a086-664a-4251-aa97-573d2c2f794c",
   "metadata": {},
   "outputs": [],
   "source": [
    "X = pad_sequences(sequences, maxlen=MAX_SEQUENCES_LENGTH, padding='post')"
   ]
  },
  {
   "cell_type": "code",
   "execution_count": 21,
   "id": "85ae952c-b972-476b-95cf-51370ea87a0d",
   "metadata": {},
   "outputs": [],
   "source": [
    "# Prepare to y as label\n",
    "y = df[\"label\"]\n",
    "y = to_categorical(y)"
   ]
  },
  {
   "cell_type": "code",
   "execution_count": 22,
   "id": "923a20db-6ac8-4735-acd1-57fd0f733f32",
   "metadata": {},
   "outputs": [],
   "source": [
    "classes = ['0', '1', '2']"
   ]
  },
  {
   "cell_type": "code",
   "execution_count": 23,
   "id": "9362a351-476b-4d01-84f1-6a2ebcd1df55",
   "metadata": {},
   "outputs": [],
   "source": [
    "# Menyimpan dataset yg sudah di split agar bisa di panggil kembali\n",
    "#import pickle\n",
    "#with open('split_dataset/datset70.pickle', 'wb') as f:\n",
    "#pickle.dump([X_train, X_test, y_train, y_test], f)"
   ]
  },
  {
   "cell_type": "code",
   "execution_count": 24,
   "id": "3c588958-6ba1-4ccb-986c-23c49358072c",
   "metadata": {},
   "outputs": [
    {
     "name": "stdout",
     "output_type": "stream",
     "text": [
      "Indexing word vectors.\n",
      "Found 331286 word vectors.\n"
     ]
    }
   ],
   "source": [
    "# open Glove\n",
    "print('Indexing word vectors.')\n",
    "\n",
    "embeddings_index = {}\n",
    "f = open(os.path.join('dataset/glove/vectors.txt'), encoding='utf-8')\n",
    "for line in f:\n",
    "    values = line.split()\n",
    "    word = values[0]\n",
    "    coefs = np.asarray(values[1:], dtype='float32')\n",
    "    embeddings_index[word] = coefs\n",
    "f.close()\n",
    "\n",
    "print('Found %s word vectors.' % len(embeddings_index))"
   ]
  },
  {
   "cell_type": "code",
   "execution_count": 25,
   "id": "433930ee-7c91-46b7-8fb1-ccd23b4bf081",
   "metadata": {},
   "outputs": [],
   "source": [
    "# Use GloVe as Word Embedding\n",
    "hits = 0\n",
    "misses = 0\n",
    "index = []\n",
    "num_words = min(MAX_NB_WORDS, len(word_index))\n",
    "embedding_matrix = np.zeros((len(word_index) + 1, EMBEDDING_DIM))\n",
    "for word, i in word_index.items():\n",
    "    embedding_vector = embeddings_index.get(word)\n",
    "    if embedding_vector is not None:\n",
    "        # words not found in embedding index will be all-zeros.\n",
    "        embedding_matrix[i] = embedding_vector\n",
    "        hits += 1\n",
    "    else:\n",
    "        misses += 1\n",
    "        index.append(word)"
   ]
  },
  {
   "cell_type": "code",
   "execution_count": 26,
   "id": "62df46f6-1835-4504-8591-fa218dc925fb",
   "metadata": {},
   "outputs": [],
   "source": [
    "# test = embeddings_index.get(\"netizen\")\n",
    "# test"
   ]
  },
  {
   "cell_type": "code",
   "execution_count": 27,
   "id": "37b51025-22d4-4daf-be91-8204ad681a62",
   "metadata": {},
   "outputs": [],
   "source": [
    "# jumlah kata yg berhasil di embedding\n",
    "#hits"
   ]
  },
  {
   "cell_type": "code",
   "execution_count": 28,
   "id": "79ece793-056c-415f-bcf9-6c8d94a2978b",
   "metadata": {},
   "outputs": [],
   "source": [
    "# jumlah kata yg miss tidak ada dalam vector glove\n",
    "#misses"
   ]
  },
  {
   "cell_type": "code",
   "execution_count": 29,
   "id": "0a4fd8a7-1bf2-47ed-9c7d-51420134a2c7",
   "metadata": {
    "scrolled": true
   },
   "outputs": [],
   "source": [
    "# kata-kataa yang tidak berhasil di bobot\n",
    "#index"
   ]
  },
  {
   "cell_type": "code",
   "execution_count": 30,
   "id": "28123f61-978a-414d-aba9-65f158e5ac0b",
   "metadata": {},
   "outputs": [],
   "source": [
    "# Embedding layer with glove\n",
    "embedding_layer = Embedding(len(word_index) + 1, EMBEDDING_DIM, input_length=MAX_SEQUENCES_LENGTH,weights=[embedding_matrix],trainable=True)"
   ]
  },
  {
   "cell_type": "code",
   "execution_count": null,
   "id": "ef2d1437-b661-4e8d-a45a-609a6fd8070d",
   "metadata": {},
   "outputs": [],
   "source": [
    "# model 1\n",
    "# Create Model CNN\n",
    "# def create_model():\n",
    "#     model = Sequential()\n",
    "#     model.add(embedding_layer)\n",
    "#     model.add(Conv1D(filters=32, kernel_size=3, activation='relu', padding='same'))\n",
    "#     model.add(Dropout(0.3))\n",
    "#     model.add(MaxPooling1D(pool_size=2))\n",
    "#     model.add(Dropout(0.2))\n",
    "#     model.add(Flatten())\n",
    "# #     model.add(Dense(16,activation=\"relu\"))\n",
    "# #     model.add(Dropout(0.3))\n",
    "#     model.add(Dense(3, activation='softmax'))\n",
    "#     model.compile(loss='categorical_crossentropy', optimizer='adam', metrics=['accuracy'])\n",
    "#     model.summary()\n",
    "#     return model"
   ]
  },
  {
   "cell_type": "code",
   "execution_count": null,
   "id": "08853161-e1dd-4ccb-8734-5575f836ae97",
   "metadata": {},
   "outputs": [],
   "source": [
    "# from keras.layers import GlobalMaxPooling1D"
   ]
  },
  {
   "cell_type": "code",
   "execution_count": 31,
   "id": "9c633864-1735-4c6f-b81e-fe40ec6c8f38",
   "metadata": {},
   "outputs": [],
   "source": [
    "# Create Model CNN\n",
    "# model 2\n",
    "def create_model():\n",
    "    model = Sequential()\n",
    "    model.add(embedding_layer)\n",
    "    model.add(Conv1D(filters=128, kernel_size=3, activation='relu', padding='same'))\n",
    "#     model.add(GlobalMaxPooling1D())\n",
    "    model.add(Dropout(0.3))\n",
    "    model.add(MaxPooling1D(pool_size=2))\n",
    "    model.add(Dropout(0.3))\n",
    "    model.add(Conv1D(filters=64, kernel_size=3, activation='relu', padding='same'))\n",
    "    model.add(Dropout(0.3))\n",
    "    model.add(GlobalMaxPooling1D())\n",
    "#     model.add(Flatten())\n",
    "    model.add(Dense(32,activation=\"relu\"))\n",
    "    model.add(Dropout(0.3))\n",
    "    model.add(Dense(3, activation='softmax'))\n",
    "    model.compile(loss='categorical_crossentropy', optimizer='adam', metrics=['accuracy'])\n",
    "    model.summary()\n",
    "    return model"
   ]
  },
  {
   "cell_type": "code",
   "execution_count": 32,
   "id": "75de104f-ec3f-489f-b0d9-fd7322ada82b",
   "metadata": {},
   "outputs": [
    {
     "name": "stdout",
     "output_type": "stream",
     "text": [
      "Model: \"sequential\"\n",
      "_________________________________________________________________\n",
      " Layer (type)                Output Shape              Param #   \n",
      "=================================================================\n",
      " embedding (Embedding)       (None, 50, 50)            130350    \n",
      "                                                                 \n",
      " conv1d (Conv1D)             (None, 50, 128)           19328     \n",
      "                                                                 \n",
      " dropout (Dropout)           (None, 50, 128)           0         \n",
      "                                                                 \n",
      " max_pooling1d (MaxPooling1D  (None, 25, 128)          0         \n",
      " )                                                               \n",
      "                                                                 \n",
      " dropout_1 (Dropout)         (None, 25, 128)           0         \n",
      "                                                                 \n",
      " conv1d_1 (Conv1D)           (None, 25, 64)            24640     \n",
      "                                                                 \n",
      " dropout_2 (Dropout)         (None, 25, 64)            0         \n",
      "                                                                 \n",
      " global_max_pooling1d (Globa  (None, 64)               0         \n",
      " lMaxPooling1D)                                                  \n",
      "                                                                 \n",
      " dense (Dense)               (None, 32)                2080      \n",
      "                                                                 \n",
      " dropout_3 (Dropout)         (None, 32)                0         \n",
      "                                                                 \n",
      " dense_1 (Dense)             (None, 3)                 99        \n",
      "                                                                 \n",
      "=================================================================\n",
      "Total params: 176,497\n",
      "Trainable params: 176,497\n",
      "Non-trainable params: 0\n",
      "_________________________________________________________________\n"
     ]
    }
   ],
   "source": [
    "# Train Model\n",
    "cnn_model = create_model()"
   ]
  },
  {
   "cell_type": "code",
   "execution_count": 33,
   "id": "5ea47a00-cdd2-40f4-a47f-062972627cb1",
   "metadata": {},
   "outputs": [],
   "source": [
    "# Split Dataset\n",
    "X_train, X_test, y_train, y_test = train_test_split(X, y, test_size=0.1, random_state=20, stratify=y)"
   ]
  },
  {
   "cell_type": "code",
   "execution_count": 34,
   "id": "db1744d7-c9a7-4040-b08f-4f3d0d7154b4",
   "metadata": {},
   "outputs": [
    {
     "name": "stdout",
     "output_type": "stream",
     "text": [
      "Epoch 1/10\n",
      "40/40 [==============================] - 3s 36ms/step - loss: 1.1625 - accuracy: 0.4219 - val_loss: 1.0604 - val_accuracy: 0.4752\n",
      "Epoch 2/10\n",
      "40/40 [==============================] - 1s 21ms/step - loss: 1.0600 - accuracy: 0.4647 - val_loss: 1.0574 - val_accuracy: 0.4752\n",
      "Epoch 3/10\n",
      "40/40 [==============================] - 1s 21ms/step - loss: 1.0554 - accuracy: 0.4623 - val_loss: 1.0557 - val_accuracy: 0.4965\n",
      "Epoch 4/10\n",
      "40/40 [==============================] - 1s 21ms/step - loss: 1.0501 - accuracy: 0.4734 - val_loss: 1.0669 - val_accuracy: 0.4965\n",
      "Epoch 5/10\n",
      "40/40 [==============================] - 1s 22ms/step - loss: 1.0409 - accuracy: 0.4956 - val_loss: 1.0530 - val_accuracy: 0.4610\n",
      "Epoch 6/10\n",
      "40/40 [==============================] - 1s 23ms/step - loss: 1.0207 - accuracy: 0.5004 - val_loss: 1.0514 - val_accuracy: 0.4681\n",
      "Epoch 7/10\n",
      "40/40 [==============================] - 1s 21ms/step - loss: 1.0119 - accuracy: 0.5099 - val_loss: 1.0559 - val_accuracy: 0.4823\n",
      "Epoch 8/10\n",
      "40/40 [==============================] - 1s 21ms/step - loss: 1.0010 - accuracy: 0.5044 - val_loss: 1.0344 - val_accuracy: 0.4965\n",
      "Epoch 9/10\n",
      "40/40 [==============================] - 1s 22ms/step - loss: 0.9825 - accuracy: 0.5250 - val_loss: 1.0347 - val_accuracy: 0.4681\n",
      "Epoch 10/10\n",
      "40/40 [==============================] - 1s 22ms/step - loss: 0.9496 - accuracy: 0.5345 - val_loss: 1.0323 - val_accuracy: 0.4681\n"
     ]
    }
   ],
   "source": [
    "cnn_history = cnn_model.fit(X_train, y_train, epochs=10, validation_data=(X_test, y_test))"
   ]
  },
  {
   "cell_type": "code",
   "execution_count": 35,
   "id": "56faddfc-5653-417a-bbfd-1957d7c428d4",
   "metadata": {},
   "outputs": [
    {
     "name": "stdout",
     "output_type": "stream",
     "text": [
      "CNN Accuracy: 0.46808510638297873\n"
     ]
    },
    {
     "data": {
      "image/png": "[encoded data removed]",
      "text/plain": [
       "<Figure size 1440x1152 with 2 Axes>"
      ]
     },
     "metadata": {
      "needs_background": "light"
     },
     "output_type": "display_data"
    }
   ],
   "source": [
    "# confusion matrix\n",
    "from sklearn.metrics import accuracy_score, confusion_matrix\n",
    "import seaborn as sns\n",
    "ypred = cnn_model.predict(X_test)\n",
    "cnn_accuracy = accuracy_score(y_test.argmax(axis=-1),ypred.argmax(axis=-1))\n",
    "print(\"CNN Accuracy:\",cnn_accuracy)\n",
    "cnn_cn = confusion_matrix(y_test.argmax(axis=-1),ypred.argmax(axis=-1))\n",
    "plt.subplots(figsize=(20,16))\n",
    "sns.heatmap(cnn_cn,annot=True,fmt=\"1d\",cmap=\"Blues\",cbar=True,xticklabels=classes,yticklabels=classes)\n",
    "plt.xlabel(\"Predicted\",fontsize=15)\n",
    "plt.ylabel(\"Actual\",fontsize=15)\n",
    "# plt.savefig('model60_e40.png')\n",
    "plt.show()"
   ]
  },
  {
   "cell_type": "code",
   "execution_count": 36,
   "id": "8d3d9be0-45d8-498f-97a0-14e6c312d3fd",
   "metadata": {},
   "outputs": [
    {
     "data": {
      "text/plain": [
       "array([[ 8, 31,  0],\n",
       "       [ 9, 58,  0],\n",
       "       [ 8, 27,  0]], dtype=int64)"
      ]
     },
     "execution_count": 36,
     "metadata": {},
     "output_type": "execute_result"
    }
   ],
   "source": [
    "cnn_cn"
   ]
  },
  {
   "cell_type": "code",
   "execution_count": 37,
   "id": "f5455609-fd0c-4cd5-b7bc-b82301454759",
   "metadata": {},
   "outputs": [
    {
     "name": "stdout",
     "output_type": "stream",
     "text": [
      "              precision    recall  f1-score   support\n",
      "\n",
      "           0       0.32      0.21      0.25        39\n",
      "           1       0.50      0.87      0.63        67\n",
      "           2       0.00      0.00      0.00        35\n",
      "\n",
      "    accuracy                           0.47       141\n",
      "   macro avg       0.27      0.36      0.29       141\n",
      "weighted avg       0.33      0.47      0.37       141\n",
      "\n"
     ]
    },
    {
     "name": "stderr",
     "output_type": "stream",
     "text": [
      "c:\\users\\user\\appdata\\local\\programs\\python\\python39\\lib\\site-packages\\sklearn\\metrics\\_classification.py:1318: UndefinedMetricWarning: Precision and F-score are ill-defined and being set to 0.0 in labels with no predicted samples. Use `zero_division` parameter to control this behavior.\n",
      "  _warn_prf(average, modifier, msg_start, len(result))\n",
      "c:\\users\\user\\appdata\\local\\programs\\python\\python39\\lib\\site-packages\\sklearn\\metrics\\_classification.py:1318: UndefinedMetricWarning: Precision and F-score are ill-defined and being set to 0.0 in labels with no predicted samples. Use `zero_division` parameter to control this behavior.\n",
      "  _warn_prf(average, modifier, msg_start, len(result))\n",
      "c:\\users\\user\\appdata\\local\\programs\\python\\python39\\lib\\site-packages\\sklearn\\metrics\\_classification.py:1318: UndefinedMetricWarning: Precision and F-score are ill-defined and being set to 0.0 in labels with no predicted samples. Use `zero_division` parameter to control this behavior.\n",
      "  _warn_prf(average, modifier, msg_start, len(result))\n"
     ]
    }
   ],
   "source": [
    "from sklearn.metrics import classification_report\n",
    "print(classification_report(y_test.argmax(axis=-1), ypred.argmax(axis=-1),target_names= classes))"
   ]
  },
  {
   "cell_type": "code",
   "execution_count": 38,
   "id": "8466aa04-54ed-4fbf-8ea9-4cc623f57628",
   "metadata": {},
   "outputs": [
    {
     "data": {
      "image/png": "[encoded data removed]",
      "text/plain": [
       "<Figure size 1080x360 with 2 Axes>"
      ]
     },
     "metadata": {
      "needs_background": "light"
     },
     "output_type": "display_data"
    }
   ],
   "source": [
    "fig3, axe1 = plt.subplots(nrows=1, ncols=2, figsize=(15,5))\n",
    "axe1[0].plot(cnn_history.history[\"accuracy\"],label=\"accuracy\")\n",
    "axe1[0].plot(cnn_history.history[\"val_accuracy\"],label=\"accuracy\")\n",
    "axe1[0].legend(['train', 'val'], loc='upper left')\n",
    "axe1[1].plot(cnn_history.history[\"loss\"],label=\"loss\")\n",
    "axe1[1].plot(cnn_history.history[\"val_loss\"],label=\"loss\")\n",
    "axe1[1].legend(['train', 'val'], loc='upper left')\n",
    "axe1[0].title.set_text(\"CNN Accuracy\")\n",
    "axe1[1].title.set_text(\"CNN Loss\")\n",
    "axe1[0].set_xlabel(\"Epoch\")\n",
    "axe1[1].set_xlabel(\"Epoch\")\n",
    "axe1[0].set_ylabel(\"Rate\")\n",
    "plt.show()"
   ]
  },
  {
   "cell_type": "code",
   "execution_count": null,
   "id": "34c728a9-47e4-42f6-a47f-a690649d717e",
   "metadata": {},
   "outputs": [],
   "source": [
    "# word cloud"
   ]
  }
 ],
 "metadata": {
  "kernelspec": {
   "display_name": "Python 3 (ipykernel)",
   "language": "python",
   "name": "python3"
  },
  "language_info": {
   "codemirror_mode": {
    "name": "ipython",
    "version": 3
   },
   "file_extension": ".py",
   "mimetype": "text/x-python",
   "name": "python",
   "nbconvert_exporter": "python",
   "pygments_lexer": "ipython3",
   "version": "3.9.6"
  }
 },
 "nbformat": 4,
 "nbformat_minor": 5
}
