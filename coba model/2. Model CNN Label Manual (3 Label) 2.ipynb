{
 "cells": [
  {
   "cell_type": "code",
   "execution_count": 1,
   "id": "b87949bd-78ed-4f78-a0a7-a60d5ef17f87",
   "metadata": {},
   "outputs": [],
   "source": [
    "# import library\n",
    "import numpy as np \n",
    "import pandas as pd\n",
    "import re\n",
    "import os\n",
    "\n",
    "import matplotlib.pyplot as plt\n",
    "%matplotlib inline\n",
    "\n",
    "import keras\n",
    "import keras.utils\n",
    "from sklearn import preprocessing\n",
    "from keras.preprocessing.sequence import pad_sequences\n",
    "from keras.preprocessing.text import Tokenizer\n",
    "from keras.preprocessing import sequence\n",
    "from sklearn.preprocessing import LabelEncoder\n",
    "from keras.utils.np_utils import to_categorical\n",
    "from sklearn.model_selection import train_test_split\n",
    "\n",
    "from keras.models import Sequential\n",
    "from keras.layers import Dense, Dropout, Activation\n",
    "from keras.layers import Embedding\n",
    "from keras.layers import Conv1D, GlobalMaxPooling1D, MaxPooling1D, Flatten\n",
    "\n",
    "from functools import partial\n",
    "from keras import metrics"
   ]
  },
  {
   "cell_type": "code",
   "execution_count": 2,
   "id": "c17aee04-46c5-4577-88c9-bb55c4fb3ba2",
   "metadata": {},
   "outputs": [],
   "source": [
    "MAX_SEQUENCES_LENGTH = 50 # Maximum kata pada kalimat\n",
    "MAX_NB_WORDS = 6000 # Vocabulary size\n",
    "EMBEDDING_DIM = 50 # Dimensions of Glove word vector kadang bisa juga 100"
   ]
  },
  {
   "cell_type": "code",
   "execution_count": 3,
   "id": "ca3795f3-0596-4687-ba71-7f7ce3744bdc",
   "metadata": {},
   "outputs": [
    {
     "data": {
      "text/html": [
       "<div>\n",
       "<style scoped>\n",
       "    .dataframe tbody tr th:only-of-type {\n",
       "        vertical-align: middle;\n",
       "    }\n",
       "\n",
       "    .dataframe tbody tr th {\n",
       "        vertical-align: top;\n",
       "    }\n",
       "\n",
       "    .dataframe thead th {\n",
       "        text-align: right;\n",
       "    }\n",
       "</style>\n",
       "<table border=\"1\" class=\"dataframe\">\n",
       "  <thead>\n",
       "    <tr style=\"text-align: right;\">\n",
       "      <th></th>\n",
       "      <th>text</th>\n",
       "      <th>label</th>\n",
       "    </tr>\n",
       "  </thead>\n",
       "  <tbody>\n",
       "    <tr>\n",
       "      <th>0</th>\n",
       "      <td>konflik rebut tanah</td>\n",
       "      <td>0</td>\n",
       "    </tr>\n",
       "    <tr>\n",
       "      <th>1</th>\n",
       "      <td>palestina taat kaffah islam ganti demokrasi si...</td>\n",
       "      <td>0</td>\n",
       "    </tr>\n",
       "    <tr>\n",
       "      <th>2</th>\n",
       "      <td>palestina rohingya konflik politik sih oknum l...</td>\n",
       "      <td>1</td>\n",
       "    </tr>\n",
       "    <tr>\n",
       "      <th>3</th>\n",
       "      <td>teroris islam gejala imbas konflik israel pale...</td>\n",
       "      <td>1</td>\n",
       "    </tr>\n",
       "    <tr>\n",
       "      <th>4</th>\n",
       "      <td>gregetan turun moderat peduli zionisme gera du...</td>\n",
       "      <td>2</td>\n",
       "    </tr>\n",
       "  </tbody>\n",
       "</table>\n",
       "</div>"
      ],
      "text/plain": [
       "                                                text  label\n",
       "0                                konflik rebut tanah      0\n",
       "1  palestina taat kaffah islam ganti demokrasi si...      0\n",
       "2  palestina rohingya konflik politik sih oknum l...      1\n",
       "3  teroris islam gejala imbas konflik israel pale...      1\n",
       "4  gregetan turun moderat peduli zionisme gera du...      2"
      ]
     },
     "execution_count": 3,
     "metadata": {},
     "output_type": "execute_result"
    }
   ],
   "source": [
    "# open dataset,save on dataframe\n",
    "df = pd.read_csv(\"just_stemming.csv\",encoding=\"ISO-8859-1\")\n",
    "\n",
    "# membuka data slang (data yang akan dibenarkan)\n",
    "with open('slang.txt') as file:\n",
    "    slang_map = dict(map(str.strip, line.partition('\\t')[::2])\n",
    "    for line in file if line.strip())\n",
    "    \n",
    "df.head()"
   ]
  },
  {
   "cell_type": "code",
   "execution_count": 4,
   "id": "329cbdc7-3c2b-4a14-adbb-5b4cbcf413f5",
   "metadata": {},
   "outputs": [
    {
     "name": "stdout",
     "output_type": "stream",
     "text": [
      "1    686\n",
      "0    370\n",
      "2    346\n",
      "Name: label, dtype: int64\n"
     ]
    },
    {
     "data": {
      "image/png": "[encoded data removed]",
      "text/plain": [
       "<Figure size 432x288 with 1 Axes>"
      ]
     },
     "metadata": {
      "needs_background": "light"
     },
     "output_type": "display_data"
    }
   ],
   "source": [
    "# menghitung Label sentimen (menampilkan tabel pembagian label sentimen)\n",
    "labels = df.label\n",
    "labels_count = labels.value_counts()\n",
    "labels_count.plot(kind=\"bar\", x='Label', y='Jumlah', color='red')\n",
    "print(labels.value_counts())"
   ]
  },
  {
   "cell_type": "code",
   "execution_count": 5,
   "id": "2b642154-ff9d-4cf3-99a8-eea3246a6708",
   "metadata": {},
   "outputs": [],
   "source": [
    "# Prepare to X as Feature\n",
    "tokenizer = Tokenizer()\n",
    "tokenizer.fit_on_texts(df.text)\n",
    "sequences = tokenizer.texts_to_sequences(df.text)\n",
    "# Banyak kata yang telah di tokenizer\n",
    "word_index = tokenizer.word_index"
   ]
  },
  {
   "cell_type": "code",
   "execution_count": 6,
   "id": "bed59d8c-75ce-48fb-9e48-c01ecba5156a",
   "metadata": {},
   "outputs": [
    {
     "name": "stdout",
     "output_type": "stream",
     "text": [
      "Found 2608 unique words.\n"
     ]
    }
   ],
   "source": [
    "print('Found %d unique words.' % len(word_index))"
   ]
  },
  {
   "cell_type": "code",
   "execution_count": 7,
   "id": "aa37a086-664a-4251-aa97-573d2c2f794c",
   "metadata": {},
   "outputs": [],
   "source": [
    "X = pad_sequences(sequences, maxlen=MAX_SEQUENCES_LENGTH, padding='post')"
   ]
  },
  {
   "cell_type": "code",
   "execution_count": 8,
   "id": "85ae952c-b972-476b-95cf-51370ea87a0d",
   "metadata": {},
   "outputs": [],
   "source": [
    "# Prepare to y as label\n",
    "y = df[\"label\"]\n",
    "y = to_categorical(y)"
   ]
  },
  {
   "cell_type": "code",
   "execution_count": 9,
   "id": "923a20db-6ac8-4735-acd1-57fd0f733f32",
   "metadata": {},
   "outputs": [],
   "source": [
    "classes = ['0', '1', '2']"
   ]
  },
  {
   "cell_type": "code",
   "execution_count": 10,
   "id": "9362a351-476b-4d01-84f1-6a2ebcd1df55",
   "metadata": {},
   "outputs": [],
   "source": [
    "# Menyimpan dataset yg sudah di split agar bisa di panggil kembali\n",
    "#import pickle\n",
    "#with open('split_dataset/datset70.pickle', 'wb') as f:\n",
    "#pickle.dump([X_train, X_test, y_train, y_test], f)"
   ]
  },
  {
   "cell_type": "code",
   "execution_count": 11,
   "id": "3c588958-6ba1-4ccb-986c-23c49358072c",
   "metadata": {},
   "outputs": [
    {
     "name": "stdout",
     "output_type": "stream",
     "text": [
      "Indexing word vectors.\n",
      "Found 331286 word vectors.\n"
     ]
    }
   ],
   "source": [
    "# open Glove\n",
    "print('Indexing word vectors.')\n",
    "\n",
    "embeddings_index = {}\n",
    "f = open(os.path.join('dataset/glove/vectors.txt'), encoding='utf-8')\n",
    "for line in f:\n",
    "    values = line.split()\n",
    "    word = values[0]\n",
    "    coefs = np.asarray(values[1:], dtype='float32')\n",
    "    embeddings_index[word] = coefs\n",
    "f.close()\n",
    "\n",
    "print('Found %s word vectors.' % len(embeddings_index))"
   ]
  },
  {
   "cell_type": "code",
   "execution_count": 12,
   "id": "433930ee-7c91-46b7-8fb1-ccd23b4bf081",
   "metadata": {},
   "outputs": [],
   "source": [
    "# Use GloVe as Word Embedding\n",
    "hits = 0\n",
    "misses = 0\n",
    "index = []\n",
    "num_words = min(MAX_NB_WORDS, len(word_index))\n",
    "embedding_matrix = np.zeros((len(word_index) + 1, EMBEDDING_DIM))\n",
    "for word, i in word_index.items():\n",
    "    embedding_vector = embeddings_index.get(word)\n",
    "    if embedding_vector is not None:\n",
    "        # words not found in embedding index will be all-zeros.\n",
    "        embedding_matrix[i] = embedding_vector\n",
    "        hits += 1\n",
    "    else:\n",
    "        misses += 1\n",
    "        index.append(word)"
   ]
  },
  {
   "cell_type": "code",
   "execution_count": 13,
   "id": "62df46f6-1835-4504-8591-fa218dc925fb",
   "metadata": {},
   "outputs": [],
   "source": [
    "# test = embeddings_index.get(\"netizen\")\n",
    "# test"
   ]
  },
  {
   "cell_type": "code",
   "execution_count": 14,
   "id": "37b51025-22d4-4daf-be91-8204ad681a62",
   "metadata": {},
   "outputs": [],
   "source": [
    "# jumlah kata yg berhasil di embedding\n",
    "#hits"
   ]
  },
  {
   "cell_type": "code",
   "execution_count": 15,
   "id": "79ece793-056c-415f-bcf9-6c8d94a2978b",
   "metadata": {},
   "outputs": [],
   "source": [
    "# jumlah kata yg miss tidak ada dalam vector glove\n",
    "#misses"
   ]
  },
  {
   "cell_type": "code",
   "execution_count": 16,
   "id": "0a4fd8a7-1bf2-47ed-9c7d-51420134a2c7",
   "metadata": {
    "scrolled": true
   },
   "outputs": [],
   "source": [
    "# kata-kataa yang tidak berhasil di bobot\n",
    "#index"
   ]
  },
  {
   "cell_type": "code",
   "execution_count": 17,
   "id": "28123f61-978a-414d-aba9-65f158e5ac0b",
   "metadata": {},
   "outputs": [],
   "source": [
    "# Embedding layer with glove\n",
    "embedding_layer = Embedding(len(word_index) + 1, EMBEDDING_DIM, input_length=MAX_SEQUENCES_LENGTH,weights=[embedding_matrix],trainable=True)"
   ]
  },
  {
   "cell_type": "code",
   "execution_count": null,
   "id": "ef2d1437-b661-4e8d-a45a-609a6fd8070d",
   "metadata": {},
   "outputs": [],
   "source": [
    "# model 1\n",
    "# Create Model CNN\n",
    "# def create_model():\n",
    "#     model = Sequential()\n",
    "#     model.add(embedding_layer)\n",
    "#     model.add(Conv1D(filters=32, kernel_size=3, activation='relu', padding='same'))\n",
    "#     model.add(Dropout(0.3))\n",
    "#     model.add(MaxPooling1D(pool_size=2))\n",
    "#     model.add(Dropout(0.2))\n",
    "#     model.add(Flatten())\n",
    "# #     model.add(Dense(16,activation=\"relu\"))\n",
    "# #     model.add(Dropout(0.3))\n",
    "#     model.add(Dense(3, activation='softmax'))\n",
    "#     model.compile(loss='categorical_crossentropy', optimizer='adam', metrics=['accuracy'])\n",
    "#     model.summary()\n",
    "#     return model"
   ]
  },
  {
   "cell_type": "code",
   "execution_count": null,
   "id": "08853161-e1dd-4ccb-8734-5575f836ae97",
   "metadata": {},
   "outputs": [],
   "source": [
    "# from keras.layers import GlobalMaxPooling1D"
   ]
  },
  {
   "cell_type": "code",
   "execution_count": 18,
   "id": "9c633864-1735-4c6f-b81e-fe40ec6c8f38",
   "metadata": {},
   "outputs": [],
   "source": [
    "# Create Model CNN\n",
    "# model 2\n",
    "def create_model():\n",
    "    model = Sequential()\n",
    "    model.add(embedding_layer)\n",
    "    model.add(Conv1D(filters=128, kernel_size=3, activation='relu', padding='same'))\n",
    "#     model.add(GlobalMaxPooling1D())\n",
    "    model.add(Dropout(0.3))\n",
    "    model.add(MaxPooling1D(pool_size=2))\n",
    "    model.add(Dropout(0.3))\n",
    "    model.add(Conv1D(filters=64, kernel_size=3, activation='relu', padding='same'))\n",
    "    model.add(Dropout(0.3))\n",
    "    model.add(GlobalMaxPooling1D())\n",
    "#     model.add(Flatten())\n",
    "    model.add(Dense(32,activation=\"relu\"))\n",
    "    model.add(Dropout(0.3))\n",
    "    model.add(Dense(3, activation='softmax'))\n",
    "    model.compile(loss='categorical_crossentropy', optimizer='adam', metrics=['accuracy'])\n",
    "    model.summary()\n",
    "    return model"
   ]
  },
  {
   "cell_type": "code",
   "execution_count": 19,
   "id": "75de104f-ec3f-489f-b0d9-fd7322ada82b",
   "metadata": {},
   "outputs": [
    {
     "name": "stdout",
     "output_type": "stream",
     "text": [
      "Model: \"sequential\"\n",
      "_________________________________________________________________\n",
      " Layer (type)                Output Shape              Param #   \n",
      "=================================================================\n",
      " embedding (Embedding)       (None, 50, 50)            130450    \n",
      "                                                                 \n",
      " conv1d (Conv1D)             (None, 50, 128)           19328     \n",
      "                                                                 \n",
      " dropout (Dropout)           (None, 50, 128)           0         \n",
      "                                                                 \n",
      " max_pooling1d (MaxPooling1D  (None, 25, 128)          0         \n",
      " )                                                               \n",
      "                                                                 \n",
      " dropout_1 (Dropout)         (None, 25, 128)           0         \n",
      "                                                                 \n",
      " conv1d_1 (Conv1D)           (None, 25, 64)            24640     \n",
      "                                                                 \n",
      " dropout_2 (Dropout)         (None, 25, 64)            0         \n",
      "                                                                 \n",
      " global_max_pooling1d (Globa  (None, 64)               0         \n",
      " lMaxPooling1D)                                                  \n",
      "                                                                 \n",
      " dense (Dense)               (None, 32)                2080      \n",
      "                                                                 \n",
      " dropout_3 (Dropout)         (None, 32)                0         \n",
      "                                                                 \n",
      " dense_1 (Dense)             (None, 3)                 99        \n",
      "                                                                 \n",
      "=================================================================\n",
      "Total params: 176,597\n",
      "Trainable params: 176,597\n",
      "Non-trainable params: 0\n",
      "_________________________________________________________________\n"
     ]
    }
   ],
   "source": [
    "# Train Model\n",
    "cnn_model = create_model()"
   ]
  },
  {
   "cell_type": "code",
   "execution_count": 20,
   "id": "5ea47a00-cdd2-40f4-a47f-062972627cb1",
   "metadata": {},
   "outputs": [],
   "source": [
    "# Split Dataset\n",
    "X_train, X_test, y_train, y_test = train_test_split(X, y, test_size=0.3, random_state=20, stratify=y)"
   ]
  },
  {
   "cell_type": "code",
   "execution_count": 21,
   "id": "db1744d7-c9a7-4040-b08f-4f3d0d7154b4",
   "metadata": {},
   "outputs": [
    {
     "name": "stdout",
     "output_type": "stream",
     "text": [
      "Epoch 1/10\n",
      "31/31 [==============================] - 3s 41ms/step - loss: 1.1707 - accuracy: 0.4098 - val_loss: 1.0501 - val_accuracy: 0.4893\n",
      "Epoch 2/10\n",
      "31/31 [==============================] - 1s 26ms/step - loss: 1.0394 - accuracy: 0.4883 - val_loss: 1.0369 - val_accuracy: 0.4846\n",
      "Epoch 3/10\n",
      "31/31 [==============================] - 1s 23ms/step - loss: 1.0441 - accuracy: 0.4811 - val_loss: 1.0310 - val_accuracy: 0.5036\n",
      "Epoch 4/10\n",
      "31/31 [==============================] - 1s 23ms/step - loss: 1.0191 - accuracy: 0.5005 - val_loss: 1.0273 - val_accuracy: 0.5107\n",
      "Epoch 5/10\n",
      "31/31 [==============================] - 1s 25ms/step - loss: 1.0045 - accuracy: 0.5127 - val_loss: 1.0178 - val_accuracy: 0.5202\n",
      "Epoch 6/10\n",
      "31/31 [==============================] - 1s 25ms/step - loss: 1.0085 - accuracy: 0.5158 - val_loss: 1.0195 - val_accuracy: 0.5368\n",
      "Epoch 7/10\n",
      "31/31 [==============================] - 1s 25ms/step - loss: 0.9679 - accuracy: 0.5372 - val_loss: 0.9860 - val_accuracy: 0.5653\n",
      "Epoch 8/10\n",
      "31/31 [==============================] - 1s 23ms/step - loss: 0.9533 - accuracy: 0.5311 - val_loss: 0.9549 - val_accuracy: 0.5582\n",
      "Epoch 9/10\n",
      "31/31 [==============================] - 1s 26ms/step - loss: 0.9229 - accuracy: 0.5739 - val_loss: 0.9521 - val_accuracy: 0.5796\n",
      "Epoch 10/10\n",
      "31/31 [==============================] - 1s 25ms/step - loss: 0.8974 - accuracy: 0.5688 - val_loss: 0.9497 - val_accuracy: 0.5772\n"
     ]
    }
   ],
   "source": [
    "cnn_history = cnn_model.fit(X_train, y_train, epochs=10, validation_data=(X_test, y_test))"
   ]
  },
  {
   "cell_type": "code",
   "execution_count": 22,
   "id": "56faddfc-5653-417a-bbfd-1957d7c428d4",
   "metadata": {},
   "outputs": [
    {
     "name": "stdout",
     "output_type": "stream",
     "text": [
      "CNN Accuracy: 0.5771971496437055\n"
     ]
    },
    {
     "data": {
      "image/png": "[encoded data removed]",
      "text/plain": [
       "<Figure size 1440x1152 with 2 Axes>"
      ]
     },
     "metadata": {
      "needs_background": "light"
     },
     "output_type": "display_data"
    }
   ],
   "source": [
    "# confusion matrix\n",
    "from sklearn.metrics import accuracy_score, confusion_matrix\n",
    "import seaborn as sns\n",
    "ypred = cnn_model.predict(X_test)\n",
    "cnn_accuracy = accuracy_score(y_test.argmax(axis=-1),ypred.argmax(axis=-1))\n",
    "print(\"CNN Accuracy:\",cnn_accuracy)\n",
    "cnn_cn = confusion_matrix(y_test.argmax(axis=-1),ypred.argmax(axis=-1))\n",
    "plt.subplots(figsize=(20,16))\n",
    "sns.heatmap(cnn_cn,annot=True,fmt=\"1d\",cmap=\"Blues\",cbar=True,xticklabels=classes,yticklabels=classes)\n",
    "plt.xlabel(\"Predicted\",fontsize=15)\n",
    "plt.ylabel(\"Actual\",fontsize=15)\n",
    "# plt.savefig('model60_e40.png')\n",
    "plt.show()"
   ]
  },
  {
   "cell_type": "code",
   "execution_count": 23,
   "id": "8d3d9be0-45d8-498f-97a0-14e6c312d3fd",
   "metadata": {},
   "outputs": [
    {
     "data": {
      "text/plain": [
       "array([[ 25,  77,   9],\n",
       "       [ 12, 164,  30],\n",
       "       [  4,  46,  54]], dtype=int64)"
      ]
     },
     "execution_count": 23,
     "metadata": {},
     "output_type": "execute_result"
    }
   ],
   "source": [
    "cnn_cn"
   ]
  },
  {
   "cell_type": "code",
   "execution_count": 24,
   "id": "f5455609-fd0c-4cd5-b7bc-b82301454759",
   "metadata": {},
   "outputs": [
    {
     "name": "stdout",
     "output_type": "stream",
     "text": [
      "              precision    recall  f1-score   support\n",
      "\n",
      "           0       0.61      0.23      0.33       111\n",
      "           1       0.57      0.80      0.67       206\n",
      "           2       0.58      0.52      0.55       104\n",
      "\n",
      "    accuracy                           0.58       421\n",
      "   macro avg       0.59      0.51      0.51       421\n",
      "weighted avg       0.58      0.58      0.55       421\n",
      "\n"
     ]
    }
   ],
   "source": [
    "from sklearn.metrics import classification_report\n",
    "print(classification_report(y_test.argmax(axis=-1), ypred.argmax(axis=-1),target_names= classes))"
   ]
  },
  {
   "cell_type": "code",
   "execution_count": 25,
   "id": "8466aa04-54ed-4fbf-8ea9-4cc623f57628",
   "metadata": {},
   "outputs": [
    {
     "data": {
      "image/png": "[encoded data removed]",
      "text/plain": [
       "<Figure size 1080x360 with 2 Axes>"
      ]
     },
     "metadata": {
      "needs_background": "light"
     },
     "output_type": "display_data"
    }
   ],
   "source": [
    "fig3, axe1 = plt.subplots(nrows=1, ncols=2, figsize=(15,5))\n",
    "axe1[0].plot(cnn_history.history[\"accuracy\"],label=\"accuracy\")\n",
    "axe1[0].plot(cnn_history.history[\"val_accuracy\"],label=\"accuracy\")\n",
    "axe1[0].legend(['train', 'val'], loc='upper left')\n",
    "axe1[1].plot(cnn_history.history[\"loss\"],label=\"loss\")\n",
    "axe1[1].plot(cnn_history.history[\"val_loss\"],label=\"loss\")\n",
    "axe1[1].legend(['train', 'val'], loc='upper left')\n",
    "axe1[0].title.set_text(\"CNN Accuracy\")\n",
    "axe1[1].title.set_text(\"CNN Loss\")\n",
    "axe1[0].set_xlabel(\"Epoch\")\n",
    "axe1[1].set_xlabel(\"Epoch\")\n",
    "axe1[0].set_ylabel(\"Rate\")\n",
    "plt.show()"
   ]
  },
  {
   "cell_type": "code",
   "execution_count": 26,
   "id": "70bcd906",
   "metadata": {},
   "outputs": [
    {
     "name": "stdout",
     "output_type": "stream",
     "text": [
      "Epoch 1/40\n",
      "31/31 [==============================] - 1s 27ms/step - loss: 0.8733 - accuracy: 0.5994 - val_loss: 0.9290 - val_accuracy: 0.5914\n",
      "Epoch 2/40\n",
      "31/31 [==============================] - 1s 26ms/step - loss: 0.8480 - accuracy: 0.6096 - val_loss: 0.9231 - val_accuracy: 0.5843\n",
      "Epoch 3/40\n",
      "31/31 [==============================] - 1s 24ms/step - loss: 0.8310 - accuracy: 0.6157 - val_loss: 0.9167 - val_accuracy: 0.6033\n",
      "Epoch 4/40\n",
      "31/31 [==============================] - 1s 23ms/step - loss: 0.7792 - accuracy: 0.6504 - val_loss: 0.9038 - val_accuracy: 0.5796\n",
      "Epoch 5/40\n",
      "31/31 [==============================] - 1s 24ms/step - loss: 0.7010 - accuracy: 0.6932 - val_loss: 0.8805 - val_accuracy: 0.6010\n",
      "Epoch 6/40\n",
      "31/31 [==============================] - 1s 24ms/step - loss: 0.6756 - accuracy: 0.7013 - val_loss: 0.8830 - val_accuracy: 0.6010\n",
      "Epoch 7/40\n",
      "31/31 [==============================] - 1s 23ms/step - loss: 0.6257 - accuracy: 0.7329 - val_loss: 0.9147 - val_accuracy: 0.5748\n",
      "Epoch 8/40\n",
      "31/31 [==============================] - 1s 24ms/step - loss: 0.6056 - accuracy: 0.7309 - val_loss: 0.9011 - val_accuracy: 0.6152\n",
      "Epoch 9/40\n",
      "31/31 [==============================] - 1s 24ms/step - loss: 0.5439 - accuracy: 0.7859 - val_loss: 0.9074 - val_accuracy: 0.5914\n",
      "Epoch 10/40\n",
      "31/31 [==============================] - 1s 23ms/step - loss: 0.5077 - accuracy: 0.7931 - val_loss: 0.9017 - val_accuracy: 0.6105\n",
      "Epoch 11/40\n",
      "31/31 [==============================] - 1s 24ms/step - loss: 0.4317 - accuracy: 0.8216 - val_loss: 0.9181 - val_accuracy: 0.6176\n",
      "Epoch 12/40\n",
      "31/31 [==============================] - 1s 24ms/step - loss: 0.4077 - accuracy: 0.8338 - val_loss: 0.9580 - val_accuracy: 0.5938\n",
      "Epoch 13/40\n",
      "31/31 [==============================] - 1s 25ms/step - loss: 0.3492 - accuracy: 0.8705 - val_loss: 1.0226 - val_accuracy: 0.5772\n",
      "Epoch 14/40\n",
      "31/31 [==============================] - 1s 25ms/step - loss: 0.3296 - accuracy: 0.8818 - val_loss: 0.9989 - val_accuracy: 0.6105\n",
      "Epoch 15/40\n",
      "31/31 [==============================] - 1s 29ms/step - loss: 0.2677 - accuracy: 0.9052 - val_loss: 1.0290 - val_accuracy: 0.6010\n",
      "Epoch 16/40\n",
      "31/31 [==============================] - 1s 25ms/step - loss: 0.2635 - accuracy: 0.9052 - val_loss: 1.1132 - val_accuracy: 0.5962\n",
      "Epoch 17/40\n",
      "31/31 [==============================] - 1s 23ms/step - loss: 0.2217 - accuracy: 0.9144 - val_loss: 1.1250 - val_accuracy: 0.5962\n",
      "Epoch 18/40\n",
      "31/31 [==============================] - 1s 26ms/step - loss: 0.1894 - accuracy: 0.9246 - val_loss: 1.1897 - val_accuracy: 0.5796\n",
      "Epoch 19/40\n",
      "31/31 [==============================] - 1s 25ms/step - loss: 0.1835 - accuracy: 0.9307 - val_loss: 1.2174 - val_accuracy: 0.6010\n",
      "Epoch 20/40\n",
      "31/31 [==============================] - 1s 23ms/step - loss: 0.1736 - accuracy: 0.9348 - val_loss: 1.2358 - val_accuracy: 0.5748\n",
      "Epoch 21/40\n",
      "31/31 [==============================] - 1s 24ms/step - loss: 0.1585 - accuracy: 0.9480 - val_loss: 1.2537 - val_accuracy: 0.5891\n",
      "Epoch 22/40\n",
      "31/31 [==============================] - 1s 23ms/step - loss: 0.1513 - accuracy: 0.9439 - val_loss: 1.2394 - val_accuracy: 0.5843\n",
      "Epoch 23/40\n",
      "31/31 [==============================] - 1s 25ms/step - loss: 0.1393 - accuracy: 0.9541 - val_loss: 1.3761 - val_accuracy: 0.5938\n",
      "Epoch 24/40\n",
      "31/31 [==============================] - 1s 26ms/step - loss: 0.1352 - accuracy: 0.9562 - val_loss: 1.3509 - val_accuracy: 0.5772\n",
      "Epoch 25/40\n",
      "31/31 [==============================] - 1s 25ms/step - loss: 0.1057 - accuracy: 0.9602 - val_loss: 1.4028 - val_accuracy: 0.5867\n",
      "Epoch 26/40\n",
      "31/31 [==============================] - 1s 23ms/step - loss: 0.0895 - accuracy: 0.9694 - val_loss: 1.4784 - val_accuracy: 0.5914\n",
      "Epoch 27/40\n",
      "31/31 [==============================] - 1s 23ms/step - loss: 0.0730 - accuracy: 0.9725 - val_loss: 1.5595 - val_accuracy: 0.5938\n",
      "Epoch 28/40\n",
      "31/31 [==============================] - 1s 24ms/step - loss: 0.0717 - accuracy: 0.9796 - val_loss: 1.5767 - val_accuracy: 0.5796\n",
      "Epoch 29/40\n",
      "31/31 [==============================] - 1s 24ms/step - loss: 0.0803 - accuracy: 0.9735 - val_loss: 1.6155 - val_accuracy: 0.5772\n",
      "Epoch 30/40\n",
      "31/31 [==============================] - 1s 23ms/step - loss: 0.1143 - accuracy: 0.9623 - val_loss: 1.5816 - val_accuracy: 0.5796\n",
      "Epoch 31/40\n",
      "31/31 [==============================] - 1s 24ms/step - loss: 0.0909 - accuracy: 0.9643 - val_loss: 1.7051 - val_accuracy: 0.5819\n",
      "Epoch 32/40\n",
      "31/31 [==============================] - 1s 26ms/step - loss: 0.1066 - accuracy: 0.9653 - val_loss: 1.6846 - val_accuracy: 0.5487\n",
      "Epoch 33/40\n",
      "31/31 [==============================] - 1s 26ms/step - loss: 0.0674 - accuracy: 0.9745 - val_loss: 1.6430 - val_accuracy: 0.5701\n",
      "Epoch 34/40\n",
      "31/31 [==============================] - 1s 24ms/step - loss: 0.0484 - accuracy: 0.9857 - val_loss: 1.7534 - val_accuracy: 0.5748\n",
      "Epoch 35/40\n",
      "31/31 [==============================] - 1s 24ms/step - loss: 0.0331 - accuracy: 0.9908 - val_loss: 1.8547 - val_accuracy: 0.5772\n",
      "Epoch 36/40\n",
      "31/31 [==============================] - 1s 27ms/step - loss: 0.0439 - accuracy: 0.9837 - val_loss: 1.9078 - val_accuracy: 0.5701\n",
      "Epoch 37/40\n",
      "31/31 [==============================] - 1s 24ms/step - loss: 0.0583 - accuracy: 0.9806 - val_loss: 1.8615 - val_accuracy: 0.5796\n",
      "Epoch 38/40\n",
      "31/31 [==============================] - 1s 29ms/step - loss: 0.0328 - accuracy: 0.9939 - val_loss: 1.9467 - val_accuracy: 0.5843\n",
      "Epoch 39/40\n",
      "31/31 [==============================] - 1s 25ms/step - loss: 0.0539 - accuracy: 0.9878 - val_loss: 2.0647 - val_accuracy: 0.5914\n",
      "Epoch 40/40\n",
      "31/31 [==============================] - 1s 25ms/step - loss: 0.0554 - accuracy: 0.9806 - val_loss: 1.9265 - val_accuracy: 0.5772\n"
     ]
    }
   ],
   "source": [
    "cnn_history1 = cnn_model.fit(X_train, y_train, epochs=40, validation_data=(X_test, y_test))"
   ]
  },
  {
   "cell_type": "code",
   "execution_count": null,
   "id": "34c728a9-47e4-42f6-a47f-a690649d717e",
   "metadata": {},
   "outputs": [],
   "source": [
    "# word cloud"
   ]
  }
 ],
 "metadata": {
  "kernelspec": {
   "display_name": "Python 3 (ipykernel)",
   "language": "python",
   "name": "python3"
  },
  "language_info": {
   "codemirror_mode": {
    "name": "ipython",
    "version": 3
   },
   "file_extension": ".py",
   "mimetype": "text/x-python",
   "name": "python",
   "nbconvert_exporter": "python",
   "pygments_lexer": "ipython3",
   "version": "3.9.6"
  }
 },
 "nbformat": 4,
 "nbformat_minor": 5
}
